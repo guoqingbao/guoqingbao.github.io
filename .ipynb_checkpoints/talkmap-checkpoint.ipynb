{
 "cells": [
  {
   "cell_type": "markdown",
   "metadata": {},
   "source": [
    "# Leaflet cluster map of talk locations\n",
    "\n",
    "Run this from the _talks/ directory, which contains .md files of all your talks. This scrapes the location YAML field from each .md file, geolocates it with geopy/Nominatim, and uses the getorg library to output data, HTML, and Javascript for a standalone cluster map."
   ]
  },
  {
   "cell_type": "code",
   "execution_count": 1,
   "metadata": {},
   "outputs": [
    {
     "name": "stdout",
     "output_type": "stream",
     "text": [
      "Collecting getorg\n",
      "  Downloading getorg-0.3.1-py2.py3-none-any.whl (39 kB)\n",
      "Collecting pygithub\n",
      "  Downloading PyGithub-1.54.1-py3-none-any.whl (289 kB)\n",
      "Collecting geopy\n",
      "  Downloading geopy-2.1.0-py3-none-any.whl (112 kB)\n",
      "Collecting retrying\n",
      "  Downloading retrying-1.3.3.tar.gz (10 kB)\n",
      "Requirement already satisfied, skipping upgrade: requests>=2.14.0 in c:\\users\\bobking\\anaconda3\\lib\\site-packages (from pygithub->getorg) (2.18.4)\n",
      "Collecting deprecated\n",
      "  Downloading Deprecated-1.2.11-py2.py3-none-any.whl (9.1 kB)\n",
      "Collecting pyjwt<2.0\n",
      "  Downloading PyJWT-1.7.1-py2.py3-none-any.whl (18 kB)\n",
      "Collecting geographiclib<2,>=1.49\n",
      "  Downloading geographiclib-1.50-py3-none-any.whl (38 kB)\n",
      "Requirement already satisfied, skipping upgrade: six>=1.7.0 in c:\\users\\bobking\\anaconda3\\lib\\site-packages (from retrying->getorg) (1.11.0)\n",
      "Requirement already satisfied, skipping upgrade: chardet<3.1.0,>=3.0.2 in c:\\users\\bobking\\anaconda3\\lib\\site-packages (from requests>=2.14.0->pygithub->getorg) (3.0.4)\n",
      "Requirement already satisfied, skipping upgrade: idna<2.7,>=2.5 in c:\\users\\bobking\\anaconda3\\lib\\site-packages (from requests>=2.14.0->pygithub->getorg) (2.6)\n",
      "Requirement already satisfied, skipping upgrade: urllib3<1.23,>=1.21.1 in c:\\users\\bobking\\anaconda3\\lib\\site-packages (from requests>=2.14.0->pygithub->getorg) (1.22)\n",
      "Requirement already satisfied, skipping upgrade: certifi>=2017.4.17 in c:\\users\\bobking\\anaconda3\\lib\\site-packages (from requests>=2.14.0->pygithub->getorg) (2020.12.5)\n",
      "Requirement already satisfied, skipping upgrade: wrapt<2,>=1.10 in c:\\users\\bobking\\anaconda3\\lib\\site-packages (from deprecated->pygithub->getorg) (1.10.11)\n",
      "Building wheels for collected packages: retrying\n",
      "  Building wheel for retrying (setup.py): started\n",
      "  Building wheel for retrying (setup.py): finished with status 'done'\n",
      "  Created wheel for retrying: filename=retrying-1.3.3-py3-none-any.whl size=9571 sha256=4ef083155f97f63424e88af3f882d5a1c880a67851a96ed880a2646365c865ee\n",
      "  Stored in directory: c:\\users\\bobking\\appdata\\local\\pip\\cache\\wheels\\ac\\cb\\8a\\b27bf6323e2f4c462dcbf77d70b7c5e7868a7fbe12871770cf\n",
      "Successfully built retrying\n",
      "Installing collected packages: deprecated, pyjwt, pygithub, geographiclib, geopy, retrying, getorg\n",
      "Successfully installed deprecated-1.2.11 geographiclib-1.50 geopy-2.1.0 getorg-0.3.1 pygithub-1.54.1 pyjwt-1.7.1 retrying-1.3.3\n"
     ]
    },
    {
     "name": "stderr",
     "output_type": "stream",
     "text": [
      "WARNING: You are using pip version 20.2.3; however, version 21.0.1 is available.\n",
      "You should consider upgrading via the 'c:\\users\\bobking\\anaconda3\\python.exe -m pip install --upgrade pip' command.\n"
     ]
    },
    {
     "name": "stdout",
     "output_type": "stream",
     "text": [
      "Iywidgets and ipyleaflet support disabled. You must be in a Jupyter notebook to use this feature.\n",
      "Error raised:\n",
      "No module named 'ipyleaflet'\n",
      "Check that you have enabled ipyleaflet in Jupyter with:\n",
      "    jupyter nbextension enable --py ipyleaflet\n"
     ]
    }
   ],
   "source": [
    "!pip install getorg --upgrade\n",
    "import glob\n",
    "import getorg\n",
    "from geopy import Nominatim"
   ]
  },
  {
   "cell_type": "code",
   "execution_count": 8,
   "metadata": {},
   "outputs": [],
   "source": [
    "g = glob.glob(\"./_talks/*.md\")"
   ]
  },
  {
   "cell_type": "code",
   "execution_count": 9,
   "metadata": {},
   "outputs": [
    {
     "data": {
      "text/plain": [
       "['./_talks\\\\2018-10-01-tutorial-1.md',\n",
       " './_talks\\\\2018-10-02-tutorial-1.md',\n",
       " './_talks\\\\2018-10-03-tutorial-1.md',\n",
       " './_talks\\\\2018-10-04-tutorial-1.md',\n",
       " './_talks\\\\2020-11-25-talk1.md',\n",
       " './_talks\\\\2020-11-26-talk-3.md',\n",
       " './_talks\\\\2020-12-13-talk1.md',\n",
       " './_talks\\\\2020-12-15-talk-3.md']"
      ]
     },
     "execution_count": 9,
     "metadata": {},
     "output_type": "execute_result"
    }
   ],
   "source": [
    "g"
   ]
  },
  {
   "cell_type": "code",
   "execution_count": 10,
   "metadata": {},
   "outputs": [],
   "source": [
    "geocoder = Nominatim(user_agent=\"Edge\")\n",
    "location_dict = {}\n",
    "location = \"\"\n",
    "permalink = \"\"\n",
    "title = \"\""
   ]
  },
  {
   "cell_type": "code",
   "execution_count": 11,
   "metadata": {},
   "outputs": [
    {
     "name": "stdout",
     "output_type": "stream",
     "text": [
      "Sydney, Australia \n",
      " Sydney, New South Wales, Australia\n",
      "Sydney, Australia \n",
      " Sydney, New South Wales, Australia\n",
      "Sydney, Australia \n",
      " Sydney, New South Wales, Australia\n",
      "Sydney, Australia \n",
      " Sydney, New South Wales, Australia\n",
      "Shenzheng, China \n",
      " 申郑路, 闵行区, 201106, 中国\n",
      "Shenzheng, China \n",
      " 申郑路, 闵行区, 201106, 中国\n",
      "Shenzheng, China \n",
      " 申郑路, 闵行区, 201106, 中国\n",
      "Shenzheng, China \n",
      " 申郑路, 闵行区, 201106, 中国\n"
     ]
    }
   ],
   "source": [
    "\n",
    "for file in g:\n",
    "    with open(file, 'r') as f:\n",
    "        lines = f.read()\n",
    "        if lines.find('location: \"') > 1:\n",
    "            loc_start = lines.find('location: \"') + 11\n",
    "            lines_trim = lines[loc_start:]\n",
    "            loc_end = lines_trim.find('\"')\n",
    "            location = lines_trim[:loc_end]\n",
    "                            \n",
    "           \n",
    "        location_dict[location] = geocoder.geocode(location)\n",
    "        print(location, \"\\n\", location_dict[location])\n"
   ]
  },
  {
   "cell_type": "code",
   "execution_count": 13,
   "metadata": {},
   "outputs": [
    {
     "data": {
      "text/plain": [
       "'Written map to ./talkmap/'"
      ]
     },
     "execution_count": 13,
     "metadata": {},
     "output_type": "execute_result"
    }
   ],
   "source": [
    "m = getorg.orgmap.create_map_obj()\n",
    "getorg.orgmap.output_html_cluster_map(location_dict, folder_name=\"./talkmap\", hashed_usernames=False)"
   ]
  },
  {
   "cell_type": "code",
   "execution_count": null,
   "metadata": {
    "collapsed": true
   },
   "outputs": [],
   "source": []
  }
 ],
 "metadata": {
  "anaconda-cloud": {},
  "kernelspec": {
   "display_name": "Python 3",
   "language": "python",
   "name": "python3"
  },
  "language_info": {
   "codemirror_mode": {
    "name": "ipython",
    "version": 3
   },
   "file_extension": ".py",
   "mimetype": "text/x-python",
   "name": "python",
   "nbconvert_exporter": "python",
   "pygments_lexer": "ipython3",
   "version": "3.6.4"
  }
 },
 "nbformat": 4,
 "nbformat_minor": 1
}
