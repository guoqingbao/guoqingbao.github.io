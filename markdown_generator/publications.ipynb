{
 "cells": [
  {
   "cell_type": "markdown",
   "metadata": {},
   "source": [
    "# Publications markdown generator for academicpages\n",
    "\n",
    "Takes a TSV of publications with metadata and converts them for use with [academicpages.github.io](academicpages.github.io). This is an interactive Jupyter notebook ([see more info here](http://jupyter-notebook-beginner-guide.readthedocs.io/en/latest/what_is_jupyter.html)). The core python code is also in `publications.py`. Run either from the `markdown_generator` folder after replacing `publications.tsv` with one containing your data.\n",
    "\n",
    "TODO: Make this work with BibTex and other databases of citations, rather than Stuart's non-standard TSV format and citation style.\n"
   ]
  },
  {
   "cell_type": "markdown",
   "metadata": {},
   "source": [
    "## Data format\n",
    "\n",
    "The TSV needs to have the following columns: pub_date, title, venue, excerpt, citation, site_url, and paper_url, with a header at the top. \n",
    "\n",
    "- `excerpt` and `paper_url` can be blank, but the others must have values. \n",
    "- `pub_date` must be formatted as YYYY-MM-DD.\n",
    "- `url_slug` will be the descriptive part of the .md file and the permalink URL for the page about the paper. The .md file will be `YYYY-MM-DD-[url_slug].md` and the permalink will be `https://[yourdomain]/publications/YYYY-MM-DD-[url_slug]`\n",
    "\n",
    "This is how the raw file looks (it doesn't look pretty, use a spreadsheet or other program to edit and create)."
   ]
  },
  {
   "cell_type": "code",
   "execution_count": 2,
   "metadata": {},
   "outputs": [
    {
     "name": "stdout",
     "output_type": "stream",
     "text": [
      " 驱动器 C 中的卷是 OS\n",
      " 卷的序列号是 A0F4-25BA\n",
      "\n",
      " C:\\Users\\BobKing\\Documents\\GitHub\\guoqingbao.github.io\\markdown_generator 的目录\n",
      "\n",
      "2021/03/09  21:44    <DIR>          .\n",
      "2021/03/09  21:44    <DIR>          ..\n",
      "2021/03/09  21:44    <DIR>          .ipynb_checkpoints\n",
      "2019/06/17  22:33            12,858 publications.ipynb\n",
      "2021/03/09  21:43             3,889 publications.py\n",
      "2021/03/09  21:41             1,905 publications.tsv\n",
      "2019/06/17  22:33             8,764 PubsFromBib.ipynb\n",
      "2019/06/17  22:33             6,018 pubsFromBib.py\n",
      "2019/06/17  22:33               492 readme.md\n",
      "2019/06/17  22:33            13,836 talks.ipynb\n",
      "2019/06/17  22:33             4,000 talks.py\n",
      "2019/06/17  22:33             1,188 talks.tsv\n",
      "               9 个文件         52,950 字节\n",
      "               3 个目录 97,173,012,480 可用字节\n"
     ]
    }
   ],
   "source": [
    "ls"
   ]
  },
  {
   "cell_type": "markdown",
   "metadata": {},
   "source": [
    "## Import pandas\n",
    "\n",
    "We are using the very handy pandas library for dataframes."
   ]
  },
  {
   "cell_type": "code",
   "execution_count": 14,
   "metadata": {},
   "outputs": [],
   "source": [
    "import pandas as pd"
   ]
  },
  {
   "cell_type": "markdown",
   "metadata": {},
   "source": [
    "## Import TSV\n",
    "\n",
    "Pandas makes this easy with the read_csv function. We are using a TSV, so we specify the separator as a tab, or `\\t`.\n",
    "\n",
    "I found it important to put this data in a tab-separated values format, because there are a lot of commas in this kind of data and comma-separated values can get messed up. However, you can modify the import statement, as pandas also has read_excel(), read_json(), and others."
   ]
  },
  {
   "cell_type": "code",
   "execution_count": 21,
   "metadata": {},
   "outputs": [
    {
     "data": {
      "text/html": [
       "<div>\n",
       "<style scoped>\n",
       "    .dataframe tbody tr th:only-of-type {\n",
       "        vertical-align: middle;\n",
       "    }\n",
       "\n",
       "    .dataframe tbody tr th {\n",
       "        vertical-align: top;\n",
       "    }\n",
       "\n",
       "    .dataframe thead th {\n",
       "        text-align: right;\n",
       "    }\n",
       "</style>\n",
       "<table border=\"1\" class=\"dataframe\">\n",
       "  <thead>\n",
       "    <tr style=\"text-align: right;\">\n",
       "      <th></th>\n",
       "      <th>pub_date</th>\n",
       "      <th>title</th>\n",
       "      <th>venue</th>\n",
       "      <th>excerpt</th>\n",
       "      <th>citation</th>\n",
       "      <th>url_slug</th>\n",
       "      <th>paper_url</th>\n",
       "    </tr>\n",
       "  </thead>\n",
       "  <tbody>\n",
       "    <tr>\n",
       "      <th>0</th>\n",
       "      <td>2021-03-01</td>\n",
       "      <td>COVID-MTL: Multitask Learning with Shift3D and...</td>\n",
       "      <td>Patterm Recognition</td>\n",
       "      <td>This paper is about COVID-10 diagnosis with de...</td>\n",
       "      <td>Guoqing Bao, Huai Chen, Tongliang Liu, Guanzho...</td>\n",
       "      <td>COVIDMTL</td>\n",
       "      <td>https://arxiv.org/abs/2012.05509</td>\n",
       "    </tr>\n",
       "    <tr>\n",
       "      <th>1</th>\n",
       "      <td>2021-02-09</td>\n",
       "      <td>PathoFusion: Recognition of pathomorphological...</td>\n",
       "      <td>Cancers</td>\n",
       "      <td>We proposed an AI framework for cross-modality...</td>\n",
       "      <td>Guoqing Bao, Xiuying Wang, Ran Xu, Christina L...</td>\n",
       "      <td>PathoFusion</td>\n",
       "      <td>https://doi.org/10.3390/cancers13040617</td>\n",
       "    </tr>\n",
       "    <tr>\n",
       "      <th>2</th>\n",
       "      <td>2020-10-01</td>\n",
       "      <td>Identification of lncRNA Signature Associated ...</td>\n",
       "      <td>IEEE Journal of Biomedical and Health Informatics</td>\n",
       "      <td>We proposed a machine learning based framework...</td>\n",
       "      <td>Guoqing Bao, Ran Xu, Xiuying Wang, Jianxiong J...</td>\n",
       "      <td>Pancancer</td>\n",
       "      <td>https://doi.org/10.1109/JBHI.2020.3027680</td>\n",
       "    </tr>\n",
       "    <tr>\n",
       "      <th>3</th>\n",
       "      <td>2020-11-1</td>\n",
       "      <td>Depthwise Multiception Convolution for Reducin...</td>\n",
       "      <td>The 16th International Conference on Control, ...</td>\n",
       "      <td>We proposed a new convolutional method to impr...</td>\n",
       "      <td>Guoqing Bao, Manuel B. Graeber, Xiuying Wang (...</td>\n",
       "      <td>Multiception</td>\n",
       "      <td>https://doi.org/10.1109/ICARCV50220.2020.9305369</td>\n",
       "    </tr>\n",
       "    <tr>\n",
       "      <th>4</th>\n",
       "      <td>2020-11-2</td>\n",
       "      <td>A Bifocal Classification and Fusion Network fo...</td>\n",
       "      <td>The 16th International Conference on Control, ...</td>\n",
       "      <td>We proposed a bifocal classification and fusio...</td>\n",
       "      <td>Guoqing Bao, Manuel B. Graeber, Xiuying Wang (...</td>\n",
       "      <td>Bifocal</td>\n",
       "      <td>https://doi.org/10.1109/ICARCV50220.2020.9305360</td>\n",
       "    </tr>\n",
       "  </tbody>\n",
       "</table>\n",
       "</div>"
      ],
      "text/plain": [
       "     pub_date                                              title  \\\n",
       "0  2021-03-01  COVID-MTL: Multitask Learning with Shift3D and...   \n",
       "1  2021-02-09  PathoFusion: Recognition of pathomorphological...   \n",
       "2  2020-10-01  Identification of lncRNA Signature Associated ...   \n",
       "3   2020-11-1  Depthwise Multiception Convolution for Reducin...   \n",
       "4   2020-11-2  A Bifocal Classification and Fusion Network fo...   \n",
       "\n",
       "                                               venue  \\\n",
       "0                                Patterm Recognition   \n",
       "1                                            Cancers   \n",
       "2  IEEE Journal of Biomedical and Health Informatics   \n",
       "3  The 16th International Conference on Control, ...   \n",
       "4  The 16th International Conference on Control, ...   \n",
       "\n",
       "                                             excerpt  \\\n",
       "0  This paper is about COVID-10 diagnosis with de...   \n",
       "1  We proposed an AI framework for cross-modality...   \n",
       "2  We proposed a machine learning based framework...   \n",
       "3  We proposed a new convolutional method to impr...   \n",
       "4  We proposed a bifocal classification and fusio...   \n",
       "\n",
       "                                            citation      url_slug  \\\n",
       "0  Guoqing Bao, Huai Chen, Tongliang Liu, Guanzho...      COVIDMTL   \n",
       "1  Guoqing Bao, Xiuying Wang, Ran Xu, Christina L...   PathoFusion   \n",
       "2  Guoqing Bao, Ran Xu, Xiuying Wang, Jianxiong J...     Pancancer   \n",
       "3  Guoqing Bao, Manuel B. Graeber, Xiuying Wang (...  Multiception   \n",
       "4  Guoqing Bao, Manuel B. Graeber, Xiuying Wang (...       Bifocal   \n",
       "\n",
       "                                          paper_url  \n",
       "0                  https://arxiv.org/abs/2012.05509  \n",
       "1           https://doi.org/10.3390/cancers13040617  \n",
       "2         https://doi.org/10.1109/JBHI.2020.3027680  \n",
       "3  https://doi.org/10.1109/ICARCV50220.2020.9305369  \n",
       "4  https://doi.org/10.1109/ICARCV50220.2020.9305360  "
      ]
     },
     "execution_count": 21,
     "metadata": {},
     "output_type": "execute_result"
    }
   ],
   "source": [
    "publications = pd.read_csv(\"publications.tsv\", sep=\"\\t\", header=0)\n",
    "publications\n"
   ]
  },
  {
   "cell_type": "markdown",
   "metadata": {},
   "source": [
    "## Escape special characters\n",
    "\n",
    "YAML is very picky about how it takes a valid string, so we are replacing single and double quotes (and ampersands) with their HTML encoded equivilents. This makes them look not so readable in raw format, but they are parsed and rendered nicely."
   ]
  },
  {
   "cell_type": "code",
   "execution_count": 22,
   "metadata": {},
   "outputs": [],
   "source": [
    "html_escape_table = {\n",
    "    \"&\": \"&amp;\",\n",
    "    '\"': \"&quot;\",\n",
    "    \"'\": \"&apos;\"\n",
    "    }\n",
    "\n",
    "def html_escape(text):\n",
    "    \"\"\"Produce entities within text.\"\"\"\n",
    "    return \"\".join(html_escape_table.get(c,c) for c in text)"
   ]
  },
  {
   "cell_type": "markdown",
   "metadata": {},
   "source": [
    "## Creating the markdown files\n",
    "\n",
    "This is where the heavy lifting is done. This loops through all the rows in the TSV dataframe, then starts to concatentate a big string (```md```) that contains the markdown for each type. It does the YAML metadata first, then does the description for the individual page."
   ]
  },
  {
   "cell_type": "code",
   "execution_count": 23,
   "metadata": {},
   "outputs": [],
   "source": [
    "import os\n",
    "for row, item in publications.iterrows():\n",
    "    \n",
    "    md_filename = str(item.pub_date) + \"-\" + item.url_slug + \".md\"\n",
    "    html_filename = str(item.pub_date) + \"-\" + item.url_slug\n",
    "    year = item.pub_date[:4]\n",
    "    \n",
    "    ## YAML variables\n",
    "    \n",
    "    md = \"---\\ntitle: \\\"\"   + item.title + '\"\\n'\n",
    "    \n",
    "    md += \"\"\"collection: publications\"\"\"\n",
    "    \n",
    "    md += \"\"\"\\npermalink: /publication/\"\"\" + html_filename\n",
    "    \n",
    "    if len(str(item.excerpt)) > 5:\n",
    "        md += \"\\nexcerpt: '\" + html_escape(item.excerpt) + \"'\"\n",
    "    \n",
    "    md += \"\\ndate: \" + str(item.pub_date) \n",
    "    \n",
    "    md += \"\\nvenue: '\" + html_escape(item.venue) + \"'\"\n",
    "    \n",
    "    if len(str(item.paper_url)) > 5:\n",
    "        md += \"\\npaperurl: '\" + item.paper_url + \"'\"\n",
    "    \n",
    "    md += \"\\ncitation: '\" + html_escape(item.citation) + \"'\"\n",
    "    \n",
    "    md += \"\\n---\"\n",
    "    \n",
    "    ## Markdown description for individual page\n",
    "        \n",
    "    if len(str(item.excerpt)) > 5:\n",
    "        md += \"\\n\" + html_escape(item.excerpt) + \"\\n\"\n",
    "    \n",
    "    if len(str(item.paper_url)) > 5:\n",
    "        md += \"\\n[Download paper here](\" + item.paper_url + \")\\n\" \n",
    "        \n",
    "    md += \"\\nRecommended citation: \" + item.citation\n",
    "    \n",
    "    md_filename = os.path.basename(md_filename)\n",
    "       \n",
    "    with open(\"../_publications/\" + md_filename, 'w') as f:\n",
    "        f.write(md)"
   ]
  },
  {
   "cell_type": "markdown",
   "metadata": {},
   "source": [
    "These files are in the publications directory, one directory below where we're working from."
   ]
  },
  {
   "cell_type": "code",
   "execution_count": 18,
   "metadata": {},
   "outputs": [
    {
     "name": "stdout",
     "output_type": "stream",
     "text": [
      " 驱动器 C 中的卷是 OS\n",
      " 卷的序列号是 A0F4-25BA\n",
      "\n",
      " C:\\Users\\BobKing\\Documents\\GitHub\\guoqingbao.github.io\\_publications 的目录\n",
      "\n",
      "2021/03/09  21:49    <DIR>          .\n",
      "2021/03/09  21:49    <DIR>          ..\n",
      "2019/06/17  22:33               630 2009-10-01-paper-title-number-1.md\n",
      "2019/06/17  22:33               630 2010-10-01-paper-title-number-2.md\n",
      "2019/06/17  22:33               630 2015-10-01-paper-title-number-3.md\n",
      "2021/03/09  21:49             1,188 2020-10-01-Pancancer.md\n",
      "2021/03/09  21:45             1,199 2020-10-01-paper-title-number-3.md\n",
      "2021/03/09  21:49             1,389 2021-02-09-PathoFusion.md\n",
      "2021/03/09  21:45             1,387 2021-02-09-Published.md\n",
      "2021/03/09  21:49             1,153 2021-03-01-COVIDMTL.md\n",
      "2021/03/09  21:45             1,159 2021-30-01-Major Revision.md\n",
      "               9 个文件          9,365 字节\n",
      "               2 个目录 97,218,191,360 可用字节\n"
     ]
    }
   ],
   "source": [
    "ls \"../_publications/\""
   ]
  },
  {
   "cell_type": "code",
   "execution_count": 13,
   "metadata": {},
   "outputs": [
    {
     "ename": "SyntaxError",
     "evalue": "invalid syntax (<ipython-input-13-066e84916de3>, line 1)",
     "output_type": "error",
     "traceback": [
      "\u001b[1;36m  File \u001b[1;32m\"<ipython-input-13-066e84916de3>\"\u001b[1;36m, line \u001b[1;32m1\u001b[0m\n\u001b[1;33m    cat \"../_publications/2021-02-09-Published.md\"\u001b[0m\n\u001b[1;37m                                                 ^\u001b[0m\n\u001b[1;31mSyntaxError\u001b[0m\u001b[1;31m:\u001b[0m invalid syntax\n"
     ]
    }
   ],
   "source": [
    "cat \"../_publications/2021-02-09-Published.md\""
   ]
  },
  {
   "cell_type": "code",
   "execution_count": null,
   "metadata": {
    "collapsed": true
   },
   "outputs": [],
   "source": []
  }
 ],
 "metadata": {
  "kernelspec": {
   "display_name": "Python 3",
   "language": "python",
   "name": "python3"
  },
  "language_info": {
   "codemirror_mode": {
    "name": "ipython",
    "version": 3
   },
   "file_extension": ".py",
   "mimetype": "text/x-python",
   "name": "python",
   "nbconvert_exporter": "python",
   "pygments_lexer": "ipython3",
   "version": "3.6.4"
  }
 },
 "nbformat": 4,
 "nbformat_minor": 1
}
